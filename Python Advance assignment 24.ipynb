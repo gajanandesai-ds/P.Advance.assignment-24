{
 "cells": [
  {
   "cell_type": "raw",
   "id": "68e10a4c",
   "metadata": {},
   "source": [
    "Q1. Is it permissible to use several import statements to import the same module? What would the\n",
    "goal be? Can you think of a situation where it would be beneficial?"
   ]
  },
  {
   "cell_type": "raw",
   "id": "b57301e7",
   "metadata": {},
   "source": [
    "ans: if a module has already been imported ,it's not loaded again. we eill simply get a reference to the module that has already been imported."
   ]
  },
  {
   "cell_type": "code",
   "execution_count": null,
   "id": "705cf8a4",
   "metadata": {},
   "outputs": [],
   "source": []
  },
  {
   "cell_type": "code",
   "execution_count": null,
   "id": "f599ff25",
   "metadata": {},
   "outputs": [],
   "source": []
  },
  {
   "cell_type": "raw",
   "id": "6841650f",
   "metadata": {},
   "source": [
    "Q2. What are some of a module's characteristics? (Name at least one.)"
   ]
  },
  {
   "cell_type": "raw",
   "id": "2f1d7cab",
   "metadata": {},
   "source": [
    "ans: Characteristics of modules\n",
    "> Modules contain instructions, processing logic, and data.\n",
    "> Modules can be separately compiled and stored in a library.\n",
    "> Modules can be included in a program.\n",
    "> Modules segments can be used by invoking a name and some parameters.\n",
    "> modules segemnts can be used by other modules."
   ]
  },
  {
   "cell_type": "code",
   "execution_count": null,
   "id": "daa50d1b",
   "metadata": {},
   "outputs": [],
   "source": []
  },
  {
   "cell_type": "code",
   "execution_count": null,
   "id": "1516900e",
   "metadata": {},
   "outputs": [],
   "source": []
  },
  {
   "cell_type": "raw",
   "id": "e8b42ff6",
   "metadata": {},
   "source": [
    "Q3. Circular importing, such as when two modules import each other, can lead to dependencies and\n",
    "bugs that aren&#39;t visible. How can you go about creating a program that avoids mutual importing?"
   ]
  },
  {
   "cell_type": "raw",
   "id": "74626120",
   "metadata": {},
   "source": [
    "ans: Circular importing is a form of circular dependency that is created with the import statement in python\n",
    "circular import are the result of bad designs. A deeper analysis of the program could have conculded that the  dependancy isn,t  actully required, or that the depended functionality can be moved to differnt modules that woulden't  contain the circular refernce.\n",
    "\n",
    "A simple solution is that sometimes both modules can just be merged into a single, larger modules."
   ]
  },
  {
   "cell_type": "code",
   "execution_count": null,
   "id": "ca00259f",
   "metadata": {},
   "outputs": [],
   "source": []
  },
  {
   "cell_type": "code",
   "execution_count": null,
   "id": "175f4dbe",
   "metadata": {},
   "outputs": [],
   "source": []
  },
  {
   "cell_type": "raw",
   "id": "0180cfda",
   "metadata": {},
   "source": [
    "Q4. Why is _ _all_ _ in Python?"
   ]
  },
  {
   "cell_type": "raw",
   "id": "b6d1409e",
   "metadata": {},
   "source": [
    "ans: The all tells the semantically \" public\" names fromthe modules. if there is a name in all, the users are expected  to use it, and they can expect that it will not change. By defalut, python will export all names that do not start with an we certaintly could rely on this mechanism."
   ]
  },
  {
   "cell_type": "code",
   "execution_count": null,
   "id": "d5645ec7",
   "metadata": {},
   "outputs": [],
   "source": []
  },
  {
   "cell_type": "code",
   "execution_count": null,
   "id": "8572a6b0",
   "metadata": {},
   "outputs": [],
   "source": []
  },
  {
   "cell_type": "raw",
   "id": "b3aeb828",
   "metadata": {},
   "source": [
    "Q5. In what situation is it useful to refer to the _ _name_ _ attribute or the string &#39;_ _main_ _&#39;?"
   ]
  },
  {
   "cell_type": "raw",
   "id": "6d663440",
   "metadata": {},
   "source": [
    "ans: name is a bulit-in variable which evalutes to the name of the current module. Thus it can be used to check whether the current script is being run on its own or being imported somewhere else by combining it  with if statement."
   ]
  },
  {
   "cell_type": "code",
   "execution_count": null,
   "id": "88ec56d8",
   "metadata": {},
   "outputs": [],
   "source": []
  },
  {
   "cell_type": "code",
   "execution_count": null,
   "id": "5b014522",
   "metadata": {},
   "outputs": [],
   "source": []
  },
  {
   "cell_type": "raw",
   "id": "a80a1cd3",
   "metadata": {},
   "source": [
    "Q6. What are some of the benefits of attaching a program counter to the RPN interpreter\n",
    "application, which interprets an RPN script line by line?"
   ]
  },
  {
   "cell_type": "raw",
   "id": "debf7364",
   "metadata": {},
   "source": [
    "ans: an advanrage of reverse of reverse polish notiation is that it removes the need for parentheses that are required by infix noatation. While 3 - 4 X 5 cn also be written 3-(4x5), that means something quite differnt from(3-4) x5.A program counter is also known as an instruction counter, instruction pointer, instruction address register or sequence control register. it is a digital counter needed for faster execution of tasks as well as for trcking the curent execution point."
   ]
  },
  {
   "cell_type": "code",
   "execution_count": null,
   "id": "e0f5941d",
   "metadata": {},
   "outputs": [],
   "source": []
  },
  {
   "cell_type": "code",
   "execution_count": null,
   "id": "51007100",
   "metadata": {},
   "outputs": [],
   "source": []
  },
  {
   "cell_type": "raw",
   "id": "48d6bd22",
   "metadata": {},
   "source": [
    "Q7. What are the minimum expressions or statements (or both) that you&#39;d need to render a basic\n",
    "programming language like RPN primitive but complete— that is, capable of carrying out any\n",
    "computerised task theoretically possible?"
   ]
  },
  {
   "cell_type": "raw",
   "id": "1fc011d6",
   "metadata": {},
   "source": [
    "ans"
   ]
  },
  {
   "cell_type": "code",
   "execution_count": null,
   "id": "d0c44dfd",
   "metadata": {},
   "outputs": [],
   "source": []
  },
  {
   "cell_type": "code",
   "execution_count": null,
   "id": "6ace28a9",
   "metadata": {},
   "outputs": [],
   "source": []
  }
 ],
 "metadata": {
  "kernelspec": {
   "display_name": "Python 3",
   "language": "python",
   "name": "python3"
  },
  "language_info": {
   "codemirror_mode": {
    "name": "ipython",
    "version": 3
   },
   "file_extension": ".py",
   "mimetype": "text/x-python",
   "name": "python",
   "nbconvert_exporter": "python",
   "pygments_lexer": "ipython3",
   "version": "3.8.8"
  }
 },
 "nbformat": 4,
 "nbformat_minor": 5
}
